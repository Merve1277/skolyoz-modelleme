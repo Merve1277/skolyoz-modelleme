version https://git-lfs.github.com/spec/v1
oid sha256:f4e5677bc38facee83675b54db32b3286c0b60c2e96b4a5359acf420d9410df2
size 1838373
